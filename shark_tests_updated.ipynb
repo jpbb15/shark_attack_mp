{
 "cells": [
  {
   "cell_type": "code",
   "execution_count": 66,
   "metadata": {},
   "outputs": [
    {
     "ename": "ImportError",
     "evalue": "cannot import name 'visualize_top5_countries' from 'helper_function' (/Users/deadpoet037/Documents/Ironhack/shark_attack_mp/Project_shark/Project_shark/helper_function.py)",
     "output_type": "error",
     "traceback": [
      "\u001b[0;31m---------------------------------------------------------------------------\u001b[0m",
      "\u001b[0;31mImportError\u001b[0m                               Traceback (most recent call last)",
      "Cell \u001b[0;32mIn[66], line 2\u001b[0m\n\u001b[1;32m      1\u001b[0m \u001b[38;5;28;01mfrom\u001b[39;00m \u001b[38;5;21;01mhelper_function\u001b[39;00m \u001b[38;5;28;01mimport\u001b[39;00m imp_shark, clean_data\n\u001b[0;32m----> 2\u001b[0m \u001b[38;5;28;01mfrom\u001b[39;00m \u001b[38;5;21;01mhelper_function\u001b[39;00m \u001b[38;5;28;01mimport\u001b[39;00m visualize_top5_countries, visualize_attacks_last_24_years, visualize_attacks_by_sex, visualize_attacks_by_time\n\u001b[1;32m      4\u001b[0m url \u001b[38;5;241m=\u001b[39m \u001b[38;5;124m'\u001b[39m\u001b[38;5;124mhttps://www.sharkattackfile.net/spreadsheets/GSAF5.xls\u001b[39m\u001b[38;5;124m'\u001b[39m\n\u001b[1;32m      5\u001b[0m shark_df \u001b[38;5;241m=\u001b[39m imp_shark(url)\n",
      "\u001b[0;31mImportError\u001b[0m: cannot import name 'visualize_top5_countries' from 'helper_function' (/Users/deadpoet037/Documents/Ironhack/shark_attack_mp/Project_shark/Project_shark/helper_function.py)"
     ]
    }
   ],
   "source": [
    "from helper_function import imp_shark, clean_data\n",
    "from helper_function import visualize_top5_countries, visualize_attacks_last_24_years, visualize_attacks_by_sex, visualize_attacks_by_time\n",
    "\n",
    "url = 'https://www.sharkattackfile.net/spreadsheets/GSAF5.xls'\n",
    "shark_df = imp_shark(url)\n",
    "cleaned_df = clean_data(shark_df)\n",
    "visualize_top5_countries(cleaned_df)\n",
    "visualize_attacks_last_24_years(cleaned_df)\n",
    "visualize_attacks_by_sex(cleaned_df)\n",
    "visualize_attacks_by_time(cleaned_df)"
   ]
  }
 ],
 "metadata": {
  "kernelspec": {
   "display_name": "base",
   "language": "python",
   "name": "python3"
  },
  "language_info": {
   "codemirror_mode": {
    "name": "ipython",
    "version": 3
   },
   "file_extension": ".py",
   "mimetype": "text/x-python",
   "name": "python",
   "nbconvert_exporter": "python",
   "pygments_lexer": "ipython3",
   "version": "3.12.4"
  }
 },
 "nbformat": 4,
 "nbformat_minor": 2
}
